{
 "cells": [
  {
   "cell_type": "markdown",
   "metadata": {},
   "source": [
    "Obtain"
   ]
  },
  {
   "cell_type": "code",
   "execution_count": null,
   "metadata": {},
   "outputs": [],
   "source": [
    "%matplotlib inline"
   ]
  },
  {
   "cell_type": "code",
   "execution_count": null,
   "metadata": {},
   "outputs": [],
   "source": [
    "import pandas as pd\n",
    "import matplotlib.pyplot as plt\n",
    "import numpy as np\n",
    "import seaborn as sns\n",
    "plt.style.use('seaborn')\n",
    "df = pd.read_csv('kc_house_data.csv')\n",
    "df.head()"
   ]
  },
  {
   "cell_type": "markdown",
   "metadata": {},
   "source": [
    "Scrub"
   ]
  },
  {
   "cell_type": "code",
   "execution_count": null,
   "metadata": {},
   "outputs": [],
   "source": [
    "df.info() # check datatypes"
   ]
  },
  {
   "cell_type": "code",
   "execution_count": null,
   "metadata": {},
   "outputs": [],
   "source": [
    "df = df.drop(columns=['id'])"
   ]
  },
  {
   "cell_type": "code",
   "execution_count": null,
   "metadata": {},
   "outputs": [],
   "source": [
    "df.isna().sum()"
   ]
  },
  {
   "cell_type": "code",
   "execution_count": null,
   "metadata": {},
   "outputs": [],
   "source": [
    "df = df.dropna(subset=['view'])"
   ]
  },
  {
   "cell_type": "markdown",
   "metadata": {},
   "source": [
    "Explore"
   ]
  },
  {
   "cell_type": "code",
   "execution_count": null,
   "metadata": {},
   "outputs": [],
   "source": [
    "sns.heatmap(df.corr());"
   ]
  },
  {
   "cell_type": "code",
   "execution_count": null,
   "metadata": {},
   "outputs": [],
   "source": [
    "(abs(df.corr()) > 0.70).sum()"
   ]
  },
  {
   "cell_type": "code",
   "execution_count": null,
   "metadata": {},
   "outputs": [],
   "source": [
    "df.hist(figsize=(10,10));"
   ]
  },
  {
   "cell_type": "code",
   "execution_count": null,
   "metadata": {},
   "outputs": [],
   "source": [
    "df = df[df.bedrooms <= 6]\n",
    "df = df[df.bathrooms <= 5]\n",
    "df = df[df.condition >= 2]\n",
    "df = df[df.grade > 3]\n",
    "df.price = df.price[df.price <= 700000]\n",
    "df.sqft_above = df.sqft_above[df.sqft_above <= 3000]\n",
    "df.sqft_living = df.sqft_living[df.sqft_living < 4000]\n",
    "df.sqft_living15 = df.sqft_living15[df.sqft_living15 <= 3600]\n",
    "df.sqft_lot = df.sqft_lot[df.sqft_lot <= 25000]\n",
    "df.sqft_lot15 = df.sqft_lot15[df.sqft_lot15 <= 20000]\n",
    "df.hist(figsize=(10,10));"
   ]
  },
  {
   "cell_type": "markdown",
   "metadata": {},
   "source": [
    "Model"
   ]
  },
  {
   "cell_type": "markdown",
   "metadata": {},
   "source": [
    "• Overall: Develop a model that can predict a target from given inputs\n",
    "• use simple ols to assess accuracy of model thus far\n",
    "•"
   ]
  },
  {
   "cell_type": "code",
   "execution_count": null,
   "metadata": {},
   "outputs": [],
   "source": [
    "import statsmodels.formula.api as smf"
   ]
  },
  {
   "cell_type": "code",
   "execution_count": null,
   "metadata": {},
   "outputs": [],
   "source": [
    "column_names = df.describe().columns.drop(['price'])\n",
    "results = [['ind_var', 'r_squared', 'intercept', 'slope', 'p-value' ]]\n",
    "for i, column_name in enumerate(column_names):\n",
    "    print (\"King County: price ~ \" + column_name)\n",
    "    print (\"------------------------------\")\n",
    "\n",
    "    f = 'price~' + column_name\n",
    "    model = smf.ols(formula=f, data=df).fit()\n",
    "    X_new = pd.DataFrame({column_name: [df[column_name].min(), df[column_name].max()]});\n",
    "    preds = model.predict(X_new)\n",
    "    results.append([column_name, model.rsquared, model.params[0], model.params[1], model.pvalues[1] ])\n",
    "    print(results[i+1])"
   ]
  },
  {
   "cell_type": "code",
   "execution_count": null,
   "metadata": {},
   "outputs": [],
   "source": [
    "results_df = pd.DataFrame(results)\n",
    "results_df.columns = results_df.iloc[0,:]\n",
    "results_df.drop(labels=results_df.index[0], axis=0, inplace=True)\n",
    "\n",
    "r_coef = pd.DataFrame((results_df['r_squared'])**0.5)\n",
    "r_coef.rename(columns={\"r_squared\":\"r_coef\"}, inplace=True)\n",
    "results_df = pd.concat([results_df, r_coef], axis=1)\n",
    "\n",
    "p_bool = pd.DataFrame(results_df['p-value'] < 0.05)\n",
    "p_bool.rename(columns={\"p-value\":\"p_bool\"}, inplace=True)\n",
    "results_df = pd.concat([results_df, p_bool], axis=1)\n",
    "\n",
    "r_coef_bool = pd.DataFrame(results_df['r_coef'] > 0.50)\n",
    "r_coef_bool.rename(columns={\"r_coef\":\"r_coef_bool\"}, inplace=True)\n",
    "results_df = pd.concat([results_df, r_coef_bool], axis=1)\n",
    "\n",
    "results_df"
   ]
  },
  {
   "cell_type": "markdown",
   "metadata": {},
   "source": [
    "Interpret"
   ]
  }
 ],
 "metadata": {
  "kernelspec": {
   "display_name": "Python 3",
   "language": "python",
   "name": "python3"
  },
  "language_info": {
   "codemirror_mode": {
    "name": "ipython",
    "version": 3
   },
   "file_extension": ".py",
   "mimetype": "text/x-python",
   "name": "python",
   "nbconvert_exporter": "python",
   "pygments_lexer": "ipython3",
   "version": "3.6.6"
  }
 },
 "nbformat": 4,
 "nbformat_minor": 2
}
